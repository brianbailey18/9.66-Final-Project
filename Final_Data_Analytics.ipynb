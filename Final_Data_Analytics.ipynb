{
  "nbformat": 4,
  "nbformat_minor": 0,
  "metadata": {
    "colab": {
      "provenance": []
    },
    "kernelspec": {
      "name": "python3",
      "display_name": "Python 3"
    },
    "language_info": {
      "name": "python"
    }
  },
  "cells": [
    {
      "cell_type": "code",
      "execution_count": 7,
      "metadata": {
        "id": "pN1XMwNZXSM1"
      },
      "outputs": [],
      "source": [
        "import numpy as np"
      ]
    },
    {
      "cell_type": "code",
      "source": [
        "my_preds = ['BUF', 'DAL', 'TB', 'NE', 'KC', 'ARI', 'LA', 'GB', 'SF', 'TEN', 'NO', 'IND', 'CIN', 'PHI', 'LAC', 'MIN', 'SEA', 'DEN', 'CLE', 'BAL', 'LV', 'MIA', 'PIT', 'WAS', 'CHI', 'DET', 'CAR', 'ATL', 'NYJ', 'JAX', 'HOU', 'NYG']\n",
        "pff_preds = ['KC', 'GB', 'TB', 'BUF', 'LA', 'DAL', 'NE', 'TEN', 'SF', 'IND', 'CIN', 'ARI', 'PHI', 'NO', 'CLE', 'LV', 'MIA', 'PIT', 'LAC', 'BAL', 'MIN', 'SEA', 'CHI', 'DEN', 'WAS', 'ATL', 'CAR', 'NYG', 'HOU', 'NYJ', 'DET', 'JAX']"
      ],
      "metadata": {
        "id": "scEzrfuaXV3I"
      },
      "execution_count": 8,
      "outputs": []
    },
    {
      "cell_type": "code",
      "source": [
        "differences = []\n",
        "\n",
        "for team_idx in range(len(pff_preds)): \n",
        "  team = pff_preds[team_idx]\n",
        "  my_idx = my_preds.index(team)\n",
        "  differences.append(abs(team_idx - my_idx))"
      ],
      "metadata": {
        "id": "s66CT1gTX9lX"
      },
      "execution_count": 9,
      "outputs": []
    },
    {
      "cell_type": "code",
      "source": [
        "print(np.mean(differences))"
      ],
      "metadata": {
        "colab": {
          "base_uri": "https://localhost:8080/"
        },
        "id": "qixiFAvKYduS",
        "outputId": "570c0888-1000-4d37-dfb2-fb53a3964465"
      },
      "execution_count": 10,
      "outputs": [
        {
          "output_type": "stream",
          "name": "stdout",
          "text": [
            "3.0\n"
          ]
        }
      ]
    },
    {
      "cell_type": "code",
      "source": [
        "for team in range(len(pff_preds)):\n",
        "  print('\\nTeam : ', pff_preds[team], 'Ranking : ', team + 1)"
      ],
      "metadata": {
        "colab": {
          "base_uri": "https://localhost:8080/"
        },
        "id": "L4JvGcVtsiNd",
        "outputId": "93bdec1a-5433-4733-af84-975473169812"
      },
      "execution_count": 12,
      "outputs": [
        {
          "output_type": "stream",
          "name": "stdout",
          "text": [
            "\n",
            "Team :  KC Ranking :  1\n",
            "\n",
            "Team :  GB Ranking :  2\n",
            "\n",
            "Team :  TB Ranking :  3\n",
            "\n",
            "Team :  BUF Ranking :  4\n",
            "\n",
            "Team :  LA Ranking :  5\n",
            "\n",
            "Team :  DAL Ranking :  6\n",
            "\n",
            "Team :  NE Ranking :  7\n",
            "\n",
            "Team :  TEN Ranking :  8\n",
            "\n",
            "Team :  SF Ranking :  9\n",
            "\n",
            "Team :  IND Ranking :  10\n",
            "\n",
            "Team :  CIN Ranking :  11\n",
            "\n",
            "Team :  ARI Ranking :  12\n",
            "\n",
            "Team :  PHI Ranking :  13\n",
            "\n",
            "Team :  NO Ranking :  14\n",
            "\n",
            "Team :  CLE Ranking :  15\n",
            "\n",
            "Team :  LV Ranking :  16\n",
            "\n",
            "Team :  MIA Ranking :  17\n",
            "\n",
            "Team :  PIT Ranking :  18\n",
            "\n",
            "Team :  LAC Ranking :  19\n",
            "\n",
            "Team :  BAL Ranking :  20\n",
            "\n",
            "Team :  MIN Ranking :  21\n",
            "\n",
            "Team :  SEA Ranking :  22\n",
            "\n",
            "Team :  CHI Ranking :  23\n",
            "\n",
            "Team :  DEN Ranking :  24\n",
            "\n",
            "Team :  WAS Ranking :  25\n",
            "\n",
            "Team :  ATL Ranking :  26\n",
            "\n",
            "Team :  CAR Ranking :  27\n",
            "\n",
            "Team :  NYG Ranking :  28\n",
            "\n",
            "Team :  HOU Ranking :  29\n",
            "\n",
            "Team :  NYJ Ranking :  30\n",
            "\n",
            "Team :  DET Ranking :  31\n",
            "\n",
            "Team :  JAX Ranking :  32\n"
          ]
        }
      ]
    }
  ]
}